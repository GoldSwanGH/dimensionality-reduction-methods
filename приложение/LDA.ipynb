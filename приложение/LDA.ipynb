{
 "cells":[
  {
   "cell_type":"code",
   "source":[
    "# necessary import\n",
    "import numpy as np\n",
    "import pandas as pd\n",
    "import matplotlib.pyplot as plt\n",
    "from sklearn.datasets import load_iris\n",
    "from sklearn.preprocessing import StandardScaler, LabelEncoder\n",
    "from sklearn.model_selection import train_test_split\n",
    "from sklearn.ensemble import RandomForestClassifier\n",
    "from sklearn.metrics import accuracy_score, confusion_matrix"
   ],
   "execution_count":63,
   "outputs":[
    
   ],
   "metadata":{
    "datalore":{
     "node_id":"OPZal5XVVEbUKXX42qjIHA",
     "type":"CODE",
     "hide_input_from_viewers":true,
     "hide_output_from_viewers":true
    }
   }
  },
  {
   "cell_type":"code",
   "source":[
    "\n",
    "class LDA:\n",
    "    def __init__(self, n_components):\n",
    "        self.n_components = n_components\n",
    "        self.linear_discriminants = None\n",
    "        \n",
    "    def fit(self, X, y):\n",
    "        n_features = X.shape[1]\n",
    "        class_labels = np.unique(y)\n",
    "        \n",
    "        # Вычисляем средние значения для каждого класса\n",
    "        mean_overall = np.mean(X, axis=0)\n",
    "        mean_class = {}\n",
    "        for label in class_labels:\n",
    "            mean_class[label] = np.mean(X[y==label], axis=0)\n",
    "        \n",
    "        # Вычисляем матрицу разброса между классами и внутри классов\n",
    "        S_W = np.zeros((n_features, n_features))\n",
    "        S_B = np.zeros((n_features, n_features))\n",
    "        for label in mean_class.keys():\n",
    "            n = X[y==label].shape[0]\n",
    "            diff = (X[y==label] - mean_class[label])\n",
    "            S_W += np.dot(diff.T, diff) \/ n\n",
    "            mean_diff = (mean_class[label] - mean_overall).reshape(n_features, 1)\n",
    "            S_B += n * np.dot(mean_diff, mean_diff.T)\n",
    "        \n",
    "        # Вычисляем собственные значения и собственные векторы для inv(S_W) dot S_B\n",
    "        eigenvalues, eigenvectors = np.linalg.eig(np.linalg.inv(S_W).dot(S_B))\n",
    "        \n",
    "        # Сортируем собственные значения и соответствующие им собственные векторы\n",
    "        eigen_pairs = [(np.abs(eigenvalues[i]), eigenvectors[:,i]) for i in range(len(eigenvalues))]\n",
    "        eigen_pairs = sorted(eigen_pairs, key=lambda k: k[0], reverse=True)\n",
    "        \n",
    "        # Сохраняем топ-компоненты\n",
    "        self.linear_discriminants = np.array([eigen_pairs[i][1] for i in range(self.n_components)])\n",
    "        \n",
    "    def transform(self, X):\n",
    "        return np.dot(X, self.linear_discriminants.T)"
   ],
   "execution_count":64,
   "outputs":[
    
   ],
   "metadata":{
    "datalore":{
     "node_id":"GIFO5IKF7kOMVJJa5CgN4f",
     "type":"CODE",
     "hide_input_from_viewers":true,
     "hide_output_from_viewers":true
    }
   }
  },
  {
   "cell_type":"code",
   "source":[
    "# load the iris dataset\n",
    "iris = load_iris()\n",
    "dataset = pd.DataFrame(columns=iris.feature_names,\n",
    "                       data=iris.data)\n",
    "dataset['target'] = iris.target"
   ],
   "execution_count":65,
   "outputs":[
    
   ],
   "metadata":{
    "datalore":{
     "node_id":"uIlztjf6UhX4Nkidm24auJ",
     "type":"CODE",
     "hide_input_from_viewers":true,
     "hide_output_from_viewers":true
    }
   }
  },
  {
   "cell_type":"code",
   "source":[
    "# divide the dataset into class and target variable\n",
    "X = dataset.iloc[:, 0:4].values\n",
    "y = dataset.iloc[:, 4].values"
   ],
   "execution_count":66,
   "outputs":[
    
   ],
   "metadata":{
    "datalore":{
     "node_id":"m2sNTG1DX87HPYq3NHoA2d",
     "type":"CODE",
     "hide_input_from_viewers":true,
     "hide_output_from_viewers":true
    }
   }
  },
  {
   "cell_type":"code",
   "source":[
    "# Preprocess the dataset and divide into train and test\n",
    "sc = StandardScaler()\n",
    "X = sc.fit_transform(X)\n",
    "le = LabelEncoder()\n",
    "y = le.fit_transform(y)\n",
    "X_train, X_test,\\\n",
    "    y_train, y_test = train_test_split(X, y,\n",
    "                                       test_size=0.2)"
   ],
   "execution_count":67,
   "outputs":[
    
   ],
   "metadata":{
    "datalore":{
     "node_id":"egCa00PT1rlsPxloB2zujU",
     "type":"CODE",
     "hide_input_from_viewers":true,
     "hide_output_from_viewers":true
    }
   }
  },
  {
   "cell_type":"code",
   "source":[
    "# Создаем объект LDA с заданным количеством компонентов\n",
    "lda = LDA(n_components=2)\n",
    "\n",
    "# Обучаем модель на обучающих данных\n",
    "lda.fit(X_train, y_train)\n",
    "\n",
    "# Преобразуем данные с помощью LDA\n",
    "X_train = lda.transform(X_train)\n",
    "X_test = lda.transform(X_test)"
   ],
   "execution_count":68,
   "outputs":[
    
   ],
   "metadata":{
    "datalore":{
     "node_id":"JYLubtaObKw49nEAhE1wN4",
     "type":"CODE",
     "hide_input_from_viewers":true,
     "hide_output_from_viewers":true
    }
   }
  },
  {
   "cell_type":"code",
   "source":[
    "# plot the scatterplot\n",
    "plt.scatter(\n",
    "    X_train[:, 0], X_train[:, 1],\n",
    "    c=y_train,\n",
    "    cmap='rainbow',\n",
    "    alpha=0.7, edgecolors='b'\n",
    ")\n",
    "\n",
    "# classify using random forest classifier\n",
    "classifier = RandomForestClassifier(max_depth=2,\n",
    "                                    random_state=0)\n",
    "classifier.fit(X_train, y_train)\n",
    "y_pred = classifier.predict(X_test)\n",
    "\n",
    "# print the accuracy and confusion matrix\n",
    "print('Accuracy : ' + str(accuracy_score(y_test, y_pred)))\n",
    "conf_m = confusion_matrix(y_test, y_pred)\n",
    "print(conf_m)"
   ],
   "execution_count":69,
   "outputs":[
    {
     "name":"stdout",
     "text":[
      "Accuracy : 0.9666666666666667\n",
      "[[ 8  0  0]\n",
      " [ 0 10  1]\n",
      " [ 0  0 11]]\n"
     ],
     "output_type":"stream"
    },
    {
     "data":{
      "image\/png":"[encoded data removed]"
     },
     "metadata":{
      "image\/png":{
       
      }
     },
     "output_type":"display_data"
    }
   ],
   "metadata":{
    "datalore":{
     "node_id":"JB38dWWd1dreKEd6D7gy5K",
     "type":"CODE",
     "hide_input_from_viewers":true,
     "hide_output_from_viewers":true
    }
   }
  }
 ],
 "metadata":{
  "kernelspec":{
   "display_name":"Python",
   "language":"python",
   "name":"python"
  },
  "datalore":{
   "computation_mode":"JUPYTER",
   "package_manager":"pip",
   "base_environment":"default",
   "packages":[
    
   ],
   "report_row_ids":[
    
   ],
   "version":3
  }
 },
 "nbformat":4,
 "nbformat_minor":4
}